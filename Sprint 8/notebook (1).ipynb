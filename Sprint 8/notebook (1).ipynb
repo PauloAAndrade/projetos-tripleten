{
 "cells": [
  {
   "cell_type": "code",
   "execution_count": 2,
   "metadata": {},
   "outputs": [],
   "source": [
    "import pandas as pd\n",
    "from sklearn.metrics import mean_squared_error\n",
    "from sklearn.ensemble import RandomForestRegressor\n",
    "from sklearn.model_selection import train_test_split\n",
    "from sklearn.metrics import accuracy_score\n",
    "from sklearn.ensemble import RandomForestClassifier\n",
    "from sklearn.model_selection import cross_val_score\n",
    "from sklearn.tree import DecisionTreeClassifier"
   ]
  },
  {
   "cell_type": "code",
   "execution_count": 3,
   "metadata": {},
   "outputs": [],
   "source": [
    "df = pd.read_csv('/datasets/users_behavior.csv')"
   ]
  },
  {
   "cell_type": "code",
   "execution_count": 4,
   "metadata": {},
   "outputs": [
    {
     "name": "stdout",
     "output_type": "stream",
     "text": [
      "(3214, 5)\n",
      "   calls  minutes  messages   mb_used  is_ultra\n",
      "0   40.0   311.90      83.0  19915.42         0\n",
      "1   85.0   516.75      56.0  22696.96         0\n",
      "2   77.0   467.66      86.0  21060.45         0\n",
      "3  106.0   745.53      81.0   8437.39         1\n",
      "4   66.0   418.74       1.0  14502.75         0\n",
      "<class 'pandas.core.frame.DataFrame'>\n",
      "RangeIndex: 3214 entries, 0 to 3213\n",
      "Data columns (total 5 columns):\n",
      " #   Column    Non-Null Count  Dtype  \n",
      "---  ------    --------------  -----  \n",
      " 0   calls     3214 non-null   float64\n",
      " 1   minutes   3214 non-null   float64\n",
      " 2   messages  3214 non-null   float64\n",
      " 3   mb_used   3214 non-null   float64\n",
      " 4   is_ultra  3214 non-null   int64  \n",
      "dtypes: float64(4), int64(1)\n",
      "memory usage: 125.7 KB\n",
      "None\n"
     ]
    }
   ],
   "source": [
    "print(df.shape)\n",
    "print(df.head())\n",
    "print(df.info())"
   ]
  },
  {
   "cell_type": "code",
   "execution_count": 5,
   "metadata": {},
   "outputs": [],
   "source": [
    "features = df.drop(\"is_ultra\", axis=1)\n",
    "target = df[\"is_ultra\"]\n"
   ]
  },
  {
   "cell_type": "code",
   "execution_count": 6,
   "metadata": {},
   "outputs": [
    {
     "name": "stdout",
     "output_type": "stream",
     "text": [
      "Tamanho treino: 1928\n",
      "Tamanho validação: 643\n",
      "Tamanho teste: 643\n"
     ]
    }
   ],
   "source": [
    "features_train, features_temp, target_train, target_temp = train_test_split(\n",
    "    features, target, test_size=0.4, random_state=12345)\n",
    "\n",
    "features_valid, features_test, target_valid, target_test = train_test_split(\n",
    "    features_temp, target_temp, test_size=0.5, random_state=12345)\n",
    "\n",
    "\n",
    "\n",
    "print(\"Tamanho treino:\", len(features_train))\n",
    "print(\"Tamanho validação:\", len(features_valid))\n",
    "print(\"Tamanho teste:\", len(features_test))"
   ]
  },
  {
   "cell_type": "code",
   "execution_count": 7,
   "metadata": {},
   "outputs": [
    {
     "name": "stdout",
     "output_type": "stream",
     "text": [
      "n_estimators=50, max_depth=5, Accuracy=0.793\n",
      "n_estimators=50, max_depth=10, Accuracy=0.793\n",
      "n_estimators=50, max_depth=15, Accuracy=0.784\n",
      "n_estimators=50, max_depth=20, Accuracy=0.785\n",
      "n_estimators=100, max_depth=5, Accuracy=0.795\n",
      "n_estimators=100, max_depth=10, Accuracy=0.795\n",
      "n_estimators=100, max_depth=15, Accuracy=0.788\n",
      "n_estimators=100, max_depth=20, Accuracy=0.788\n",
      "n_estimators=150, max_depth=5, Accuracy=0.793\n",
      "n_estimators=150, max_depth=10, Accuracy=0.795\n",
      "n_estimators=150, max_depth=15, Accuracy=0.787\n",
      "n_estimators=150, max_depth=20, Accuracy=0.787\n",
      "\n",
      "Melhor acurácia na validação: 0.7947122861586314\n",
      "Acurácia no teste: 0.7900466562986003\n"
     ]
    }
   ],
   "source": [
    "\n",
    "best_model = None\n",
    "best_result = 0\n",
    "\n",
    "for est in [50, 100, 150]:\n",
    "    for depth in range(5, 21, 5):\n",
    "        model = RandomForestClassifier(random_state=12345,\n",
    "                                       n_estimators=est,\n",
    "                                       max_depth=depth)\n",
    "        model.fit(features_train, target_train)\n",
    "        predictions = model.predict(features_valid)\n",
    "        result = accuracy_score(target_valid, predictions)\n",
    "        print(f\"n_estimators={est}, max_depth={depth}, Accuracy={result:.3f}\")\n",
    "\n",
    "        if result > best_result:\n",
    "            best_model = model\n",
    "            best_result = result\n",
    "\n",
    "print(\"\\nMelhor acurácia na validação:\", best_result)\n",
    "\n",
    "final_predictions = best_model.predict(features_test)\n",
    "final_result = accuracy_score(target_test, final_predictions)\n",
    "print(\"Acurácia no teste:\", final_result)\n"
   ]
  },
  {
   "cell_type": "code",
   "execution_count": 8,
   "metadata": {},
   "outputs": [
    {
     "name": "stdout",
     "output_type": "stream",
     "text": [
      "[DecisionTree] max_depth=1, Accuracy=0.754\n",
      "[DecisionTree] max_depth=2, Accuracy=0.782\n",
      "[DecisionTree] max_depth=3, Accuracy=0.785\n",
      "[DecisionTree] max_depth=4, Accuracy=0.779\n",
      "[DecisionTree] max_depth=5, Accuracy=0.779\n",
      "[DecisionTree] max_depth=6, Accuracy=0.784\n",
      "[DecisionTree] max_depth=7, Accuracy=0.782\n",
      "[DecisionTree] max_depth=8, Accuracy=0.779\n",
      "[DecisionTree] max_depth=9, Accuracy=0.782\n",
      "[DecisionTree] max_depth=10, Accuracy=0.774\n",
      "[DecisionTree] max_depth=11, Accuracy=0.762\n",
      "[DecisionTree] max_depth=12, Accuracy=0.762\n",
      "[DecisionTree] max_depth=13, Accuracy=0.756\n",
      "[DecisionTree] max_depth=14, Accuracy=0.759\n",
      "[DecisionTree] max_depth=15, Accuracy=0.747\n",
      "[DecisionTree] max_depth=16, Accuracy=0.734\n",
      "[DecisionTree] max_depth=17, Accuracy=0.736\n",
      "[DecisionTree] max_depth=18, Accuracy=0.731\n",
      "[DecisionTree] max_depth=19, Accuracy=0.728\n",
      "[DecisionTree] max_depth=20, Accuracy=0.722\n",
      "\n",
      "Melhor acurácia na validação (Decision Tree): 0.7853810264385692\n",
      "Acurácia no teste (Decision Tree): 0.7791601866251944\n"
     ]
    }
   ],
   "source": [
    "best_dt_result = 0\n",
    "best_dt_model = None\n",
    "\n",
    "for depth in range(1, 21):\n",
    "    dt_model = DecisionTreeClassifier(random_state=12345, max_depth=depth)\n",
    "    dt_model.fit(features_train, target_train)\n",
    "    predictions_dt = dt_model.predict(features_valid)\n",
    "    result_dt = accuracy_score(target_valid, predictions_dt)\n",
    "    print(f\"[DecisionTree] max_depth={depth}, Accuracy={result_dt:.3f}\")\n",
    "\n",
    "    if result_dt > best_dt_result:\n",
    "        best_dt_result = result_dt\n",
    "        best_dt_model = dt_model\n",
    "\n",
    "print(\"\\nMelhor acurácia na validação (Decision Tree):\", best_dt_result)\n",
    "\n",
    "final_predictions_dt = best_dt_model.predict(features_test)\n",
    "final_result_dt = accuracy_score(target_test, final_predictions_dt)\n",
    "print(\"Acurácia no teste (Decision Tree):\", final_result_dt)"
   ]
  },
  {
   "cell_type": "markdown",
   "metadata": {},
   "source": [
    "Tarefa adicional: tirar a prova real do modelo. Esses dados são mais complexos do que os que você está acostumado a trabalhar, então não será uma tarefa fácil. Vamos dar uma olhada mais de perto mais tarde."
   ]
  },
  {
   "cell_type": "code",
   "execution_count": 11,
   "metadata": {},
   "outputs": [
    {
     "name": "stdout",
     "output_type": "stream",
     "text": [
      "Acurácias por fold: [0.8118196  0.78849145 0.80404355 0.78382582 0.80841121]\n",
      "Média cross-validation: 0.7993183238615719\n"
     ]
    }
   ],
   "source": [
    "scores = cross_val_score(best_model, features, target, cv=5, scoring='accuracy')\n",
    "print(\"Acurácias por fold:\", scores)\n",
    "print(\"Média cross-validation:\", scores.mean())"
   ]
  },
  {
   "cell_type": "markdown",
   "metadata": {},
   "source": [
    "Neste projeto, investigamos modelos de classificação para prever o plano correto \n",
    "\n",
    "-  A Random Forest obteve melhor desempenho no teste\n",
    "\n",
    "- A Decision Tree apresentou acurácia menor que Random Forest\n",
    "\n",
    "- Portanto, a Random Forest é o modelo mais adequado para este caso, superando o limite de 0.75 de acurácia exigido pelo projeto"
   ]
  }
 ],
 "metadata": {
  "kernelspec": {
   "display_name": "Python 3 (ipykernel)",
   "language": "python",
   "name": "python3"
  },
  "language_info": {
   "codemirror_mode": {
    "name": "ipython",
    "version": 3
   },
   "file_extension": ".py",
   "mimetype": "text/x-python",
   "name": "python",
   "nbconvert_exporter": "python",
   "pygments_lexer": "ipython3",
   "version": "3.9.23"
  }
 },
 "nbformat": 4,
 "nbformat_minor": 4
}
