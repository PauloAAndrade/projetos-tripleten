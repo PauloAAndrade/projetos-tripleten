{
 "cells": [
  {
   "cell_type": "code",
   "execution_count": 15,
   "metadata": {},
   "outputs": [],
   "source": [
    "import os\n",
    "import numpy as np\n",
    "import pandas as pd\n",
    "from typing import Tuple, Dict\n",
    "from sklearn.model_selection import train_test_split, StratifiedKFold, GridSearchCV, RandomizedSearchCV\n",
    "from sklearn.pipeline import Pipeline\n",
    "from sklearn.compose import ColumnTransformer\n",
    "from sklearn.preprocessing import LabelEncoder\n",
    "from sklearn.preprocessing import OneHotEncoder, StandardScaler\n",
    "from sklearn.impute import SimpleImputer\n",
    "from sklearn.metrics import f1_score, roc_auc_score, classification_report, confusion_matrix, precision_recall_curve\n",
    "from sklearn.linear_model import LogisticRegression\n",
    "from sklearn.ensemble import RandomForestClassifier\n",
    "import matplotlib.pyplot as plt\n",
    "from sklearn.metrics import roc_curve, auc\n",
    "from sklearn.metrics import precision_recall_curve"
   ]
  },
  {
   "cell_type": "code",
   "execution_count": 16,
   "metadata": {},
   "outputs": [],
   "source": [
    "df = pd.read_csv('/datasets/Churn.csv')"
   ]
  },
  {
   "cell_type": "code",
   "execution_count": 36,
   "metadata": {
    "scrolled": true
   },
   "outputs": [
    {
     "name": "stdout",
     "output_type": "stream",
     "text": [
      "(10000, 13)\n",
      "   RowNumber  CustomerId   Surname  CreditScore Geography  Gender  Age  \\\n",
      "0          1    15634602  Hargrave          619    France  Female   42   \n",
      "1          2    15647311      Hill          608     Spain  Female   41   \n",
      "2          3    15619304      Onio          502    France  Female   42   \n",
      "3          4    15701354      Boni          699    France  Female   39   \n",
      "4          5    15737888  Mitchell          850     Spain  Female   43   \n",
      "\n",
      "   Tenure    Balance  NumOfProducts  HasCrCard  IsActiveMember  \\\n",
      "0     2.0       0.00              1          1               1   \n",
      "1     1.0   83807.86              1          0               1   \n",
      "2     8.0  159660.80              3          1               0   \n",
      "3     1.0       0.00              2          0               0   \n",
      "4     2.0  125510.82              1          1               1   \n",
      "\n",
      "   EstimatedSalary  \n",
      "0        101348.88  \n",
      "1        112542.58  \n",
      "2        113931.57  \n",
      "3         93826.63  \n",
      "4         79084.10  \n",
      "<class 'pandas.core.frame.DataFrame'>\n",
      "RangeIndex: 10000 entries, 0 to 9999\n",
      "Data columns (total 13 columns):\n",
      " #   Column           Non-Null Count  Dtype  \n",
      "---  ------           --------------  -----  \n",
      " 0   RowNumber        10000 non-null  int64  \n",
      " 1   CustomerId       10000 non-null  int64  \n",
      " 2   Surname          10000 non-null  object \n",
      " 3   CreditScore      10000 non-null  int64  \n",
      " 4   Geography        10000 non-null  object \n",
      " 5   Gender           10000 non-null  object \n",
      " 6   Age              10000 non-null  int64  \n",
      " 7   Tenure           9091 non-null   float64\n",
      " 8   Balance          10000 non-null  float64\n",
      " 9   NumOfProducts    10000 non-null  int64  \n",
      " 10  HasCrCard        10000 non-null  int64  \n",
      " 11  IsActiveMember   10000 non-null  int64  \n",
      " 12  EstimatedSalary  10000 non-null  float64\n",
      "dtypes: float64(3), int64(7), object(3)\n",
      "memory usage: 1015.8+ KB\n",
      "None\n"
     ]
    }
   ],
   "source": [
    "#Analisando colunas para ver com utilizarei \n",
    "\n",
    "print(df.shape)\n",
    "print(df.head(5))\n",
    "print(df.info())\n"
   ]
  },
  {
   "cell_type": "code",
   "execution_count": 18,
   "metadata": {},
   "outputs": [],
   "source": [
    "\n",
    "\n",
    "y = df.pop('Exited')\n",
    "X = df.drop(columns=['Surname'])\n",
    "\n",
    "\n",
    "\n",
    "\n",
    "X_train, X_test, y_train, y_test = train_test_split(X, y, test_size=0.2, stratify=y, random_state=12345)\n",
    "\n",
    "X_train = X_train.copy()\n",
    "X_test = X_test.copy()\n"
   ]
  },
  {
   "cell_type": "markdown",
   "metadata": {},
   "source": [
    "Usei as colunas 'CreditScore', 'geography_le', 'Age', 'Balance', 'IsActiveMember', 'NumOfProducts', 'Exited', 'HasCrCard']], como referencia para arvore\n",
    "Usei o labelencoder na coluna geography para poder substituir cada categoria por numeros.\n",
    "Exemplo: [\"France\", \"Spain\", \"Germany\"] → [0, 2, 1]."
   ]
  },
  {
   "cell_type": "markdown",
   "metadata": {},
   "source": [
    "Criei uma funçao para o frequency enconde, porem fiquei na duvida se eu deveria usar o \"Smote\""
   ]
  },
  {
   "cell_type": "code",
   "execution_count": 19,
   "metadata": {},
   "outputs": [],
   "source": [
    "def frequency_encode(train_series, test_series):\n",
    "    freqs = train_series.value_counts(normalize=True)\n",
    "    train_encoded = train_series.map(freqs)\n",
    "    test_encoded = test_series.map(freqs).fillna(0)  \n",
    "    return train_encoded, test_encoded"
   ]
  },
  {
   "cell_type": "code",
   "execution_count": 20,
   "metadata": {},
   "outputs": [],
   "source": [
    "\n",
    "categorical_cols = ['Gender', 'Geography']\n",
    "for col in categorical_cols:\n",
    "    X_train_enc, X_test_enc = frequency_encode(X_train[col], X_test[col])\n",
    "    X_train.loc[:, col] = X_train_enc\n",
    "    X_test.loc[:, col] = X_test_enc\n"
   ]
  },
  {
   "cell_type": "code",
   "execution_count": null,
   "metadata": {},
   "outputs": [],
   "source": []
  },
  {
   "cell_type": "markdown",
   "metadata": {},
   "source": [
    "usei metodo pop para remover a coluna exited do df\n",
    "Esse trecho separa as informações que vão ser usadas para prever (df, que virou X). Depois divide em treino (90%) e teste (10%), garantindo que  possa avaliar se o modelo aprendeu bem sem decorar os dados.\n"
   ]
  },
  {
   "cell_type": "code",
   "execution_count": 21,
   "metadata": {},
   "outputs": [
    {
     "data": {
      "text/html": [
       "<div>\n",
       "<style scoped>\n",
       "    .dataframe tbody tr th:only-of-type {\n",
       "        vertical-align: middle;\n",
       "    }\n",
       "\n",
       "    .dataframe tbody tr th {\n",
       "        vertical-align: top;\n",
       "    }\n",
       "\n",
       "    .dataframe thead th {\n",
       "        text-align: right;\n",
       "    }\n",
       "</style>\n",
       "<table border=\"1\" class=\"dataframe\">\n",
       "  <thead>\n",
       "    <tr style=\"text-align: right;\">\n",
       "      <th></th>\n",
       "      <th>RowNumber</th>\n",
       "      <th>CustomerId</th>\n",
       "      <th>CreditScore</th>\n",
       "      <th>Geography</th>\n",
       "      <th>Gender</th>\n",
       "      <th>Age</th>\n",
       "      <th>Tenure</th>\n",
       "      <th>Balance</th>\n",
       "      <th>NumOfProducts</th>\n",
       "      <th>HasCrCard</th>\n",
       "      <th>IsActiveMember</th>\n",
       "      <th>EstimatedSalary</th>\n",
       "    </tr>\n",
       "  </thead>\n",
       "  <tbody>\n",
       "    <tr>\n",
       "      <th>3376</th>\n",
       "      <td>3377</td>\n",
       "      <td>15721582</td>\n",
       "      <td>644</td>\n",
       "      <td>0.250625</td>\n",
       "      <td>0.453875</td>\n",
       "      <td>40</td>\n",
       "      <td>4.0</td>\n",
       "      <td>77270.08</td>\n",
       "      <td>2</td>\n",
       "      <td>1</td>\n",
       "      <td>1</td>\n",
       "      <td>115800.10</td>\n",
       "    </tr>\n",
       "    <tr>\n",
       "      <th>1315</th>\n",
       "      <td>1316</td>\n",
       "      <td>15734634</td>\n",
       "      <td>607</td>\n",
       "      <td>0.249375</td>\n",
       "      <td>0.453875</td>\n",
       "      <td>27</td>\n",
       "      <td>5.0</td>\n",
       "      <td>100912.19</td>\n",
       "      <td>1</td>\n",
       "      <td>0</td>\n",
       "      <td>0</td>\n",
       "      <td>7631.27</td>\n",
       "    </tr>\n",
       "    <tr>\n",
       "      <th>2552</th>\n",
       "      <td>2553</td>\n",
       "      <td>15756560</td>\n",
       "      <td>599</td>\n",
       "      <td>0.249375</td>\n",
       "      <td>0.453875</td>\n",
       "      <td>46</td>\n",
       "      <td>7.0</td>\n",
       "      <td>81742.84</td>\n",
       "      <td>2</td>\n",
       "      <td>1</td>\n",
       "      <td>0</td>\n",
       "      <td>83282.21</td>\n",
       "    </tr>\n",
       "    <tr>\n",
       "      <th>511</th>\n",
       "      <td>512</td>\n",
       "      <td>15761043</td>\n",
       "      <td>632</td>\n",
       "      <td>0.250625</td>\n",
       "      <td>0.453875</td>\n",
       "      <td>38</td>\n",
       "      <td>6.0</td>\n",
       "      <td>86569.76</td>\n",
       "      <td>2</td>\n",
       "      <td>1</td>\n",
       "      <td>0</td>\n",
       "      <td>98090.91</td>\n",
       "    </tr>\n",
       "    <tr>\n",
       "      <th>1888</th>\n",
       "      <td>1889</td>\n",
       "      <td>15663921</td>\n",
       "      <td>429</td>\n",
       "      <td>0.500000</td>\n",
       "      <td>0.546125</td>\n",
       "      <td>60</td>\n",
       "      <td>7.0</td>\n",
       "      <td>0.00</td>\n",
       "      <td>2</td>\n",
       "      <td>1</td>\n",
       "      <td>1</td>\n",
       "      <td>163691.48</td>\n",
       "    </tr>\n",
       "    <tr>\n",
       "      <th>...</th>\n",
       "      <td>...</td>\n",
       "      <td>...</td>\n",
       "      <td>...</td>\n",
       "      <td>...</td>\n",
       "      <td>...</td>\n",
       "      <td>...</td>\n",
       "      <td>...</td>\n",
       "      <td>...</td>\n",
       "      <td>...</td>\n",
       "      <td>...</td>\n",
       "      <td>...</td>\n",
       "      <td>...</td>\n",
       "    </tr>\n",
       "    <tr>\n",
       "      <th>2360</th>\n",
       "      <td>2361</td>\n",
       "      <td>15670205</td>\n",
       "      <td>518</td>\n",
       "      <td>0.250625</td>\n",
       "      <td>0.453875</td>\n",
       "      <td>41</td>\n",
       "      <td>5.0</td>\n",
       "      <td>110624.99</td>\n",
       "      <td>1</td>\n",
       "      <td>1</td>\n",
       "      <td>0</td>\n",
       "      <td>89327.67</td>\n",
       "    </tr>\n",
       "    <tr>\n",
       "      <th>4499</th>\n",
       "      <td>4500</td>\n",
       "      <td>15773322</td>\n",
       "      <td>536</td>\n",
       "      <td>0.250625</td>\n",
       "      <td>0.453875</td>\n",
       "      <td>44</td>\n",
       "      <td>4.0</td>\n",
       "      <td>121898.82</td>\n",
       "      <td>1</td>\n",
       "      <td>0</td>\n",
       "      <td>0</td>\n",
       "      <td>131007.18</td>\n",
       "    </tr>\n",
       "    <tr>\n",
       "      <th>1030</th>\n",
       "      <td>1031</td>\n",
       "      <td>15681174</td>\n",
       "      <td>730</td>\n",
       "      <td>0.500000</td>\n",
       "      <td>0.546125</td>\n",
       "      <td>39</td>\n",
       "      <td>1.0</td>\n",
       "      <td>116537.60</td>\n",
       "      <td>1</td>\n",
       "      <td>0</td>\n",
       "      <td>0</td>\n",
       "      <td>145679.60</td>\n",
       "    </tr>\n",
       "    <tr>\n",
       "      <th>700</th>\n",
       "      <td>701</td>\n",
       "      <td>15803457</td>\n",
       "      <td>750</td>\n",
       "      <td>0.500000</td>\n",
       "      <td>0.453875</td>\n",
       "      <td>32</td>\n",
       "      <td>5.0</td>\n",
       "      <td>0.00</td>\n",
       "      <td>2</td>\n",
       "      <td>1</td>\n",
       "      <td>0</td>\n",
       "      <td>95611.47</td>\n",
       "    </tr>\n",
       "    <tr>\n",
       "      <th>7549</th>\n",
       "      <td>7550</td>\n",
       "      <td>15785705</td>\n",
       "      <td>705</td>\n",
       "      <td>0.250625</td>\n",
       "      <td>0.453875</td>\n",
       "      <td>44</td>\n",
       "      <td>10.0</td>\n",
       "      <td>106731.58</td>\n",
       "      <td>1</td>\n",
       "      <td>1</td>\n",
       "      <td>0</td>\n",
       "      <td>137419.87</td>\n",
       "    </tr>\n",
       "  </tbody>\n",
       "</table>\n",
       "<p>8000 rows × 12 columns</p>\n",
       "</div>"
      ],
      "text/plain": [
       "      RowNumber  CustomerId  CreditScore  Geography    Gender  Age  Tenure  \\\n",
       "3376       3377    15721582          644   0.250625  0.453875   40     4.0   \n",
       "1315       1316    15734634          607   0.249375  0.453875   27     5.0   \n",
       "2552       2553    15756560          599   0.249375  0.453875   46     7.0   \n",
       "511         512    15761043          632   0.250625  0.453875   38     6.0   \n",
       "1888       1889    15663921          429   0.500000  0.546125   60     7.0   \n",
       "...         ...         ...          ...        ...       ...  ...     ...   \n",
       "2360       2361    15670205          518   0.250625  0.453875   41     5.0   \n",
       "4499       4500    15773322          536   0.250625  0.453875   44     4.0   \n",
       "1030       1031    15681174          730   0.500000  0.546125   39     1.0   \n",
       "700         701    15803457          750   0.500000  0.453875   32     5.0   \n",
       "7549       7550    15785705          705   0.250625  0.453875   44    10.0   \n",
       "\n",
       "        Balance  NumOfProducts  HasCrCard  IsActiveMember  EstimatedSalary  \n",
       "3376   77270.08              2          1               1        115800.10  \n",
       "1315  100912.19              1          0               0          7631.27  \n",
       "2552   81742.84              2          1               0         83282.21  \n",
       "511    86569.76              2          1               0         98090.91  \n",
       "1888       0.00              2          1               1        163691.48  \n",
       "...         ...            ...        ...             ...              ...  \n",
       "2360  110624.99              1          1               0         89327.67  \n",
       "4499  121898.82              1          0               0        131007.18  \n",
       "1030  116537.60              1          0               0        145679.60  \n",
       "700        0.00              2          1               0         95611.47  \n",
       "7549  106731.58              1          1               0        137419.87  \n",
       "\n",
       "[8000 rows x 12 columns]"
      ]
     },
     "execution_count": 21,
     "metadata": {},
     "output_type": "execute_result"
    }
   ],
   "source": [
    "X_train"
   ]
  },
  {
   "cell_type": "markdown",
   "metadata": {},
   "source": [
    "##oversampling da classe minoritária"
   ]
  },
  {
   "cell_type": "code",
   "execution_count": 22,
   "metadata": {},
   "outputs": [],
   "source": [
    "\n",
    "\n",
    "\n",
    "\n",
    "counts = y_train.value_counts()\n",
    "minor_class = counts.idxmin()\n",
    "major_class = counts.idxmax()\n",
    "\n",
    "X_min = X_train[y_train == minor_class]\n",
    "y_min = y_train[y_train == minor_class]\n",
    "\n",
    "X_maj = X_train[y_train == major_class]\n",
    "y_maj = y_train[y_train == major_class]\n",
    "\n",
    "\n",
    "X_min_over = X_min.sample(counts[major_class], replace=True, random_state=12345)\n",
    "y_min_over = y_min.sample(counts[major_class], replace=True, random_state=12345)\n",
    "\n",
    "\n",
    "X_train_bal = pd.concat([X_maj, X_min_over])\n",
    "y_train_bal = pd.concat([y_maj, y_min_over])\n",
    "\n",
    "\n",
    "\n",
    "\n"
   ]
  },
  {
   "cell_type": "code",
   "execution_count": 27,
   "metadata": {},
   "outputs": [],
   "source": [
    "X_train_bal = X_train_bal.fillna(0)\n",
    "X_test = X_test.fillna(0)"
   ]
  },
  {
   "cell_type": "code",
   "execution_count": 29,
   "metadata": {},
   "outputs": [
    {
     "data": {
      "text/plain": [
       "RandomForestClassifier(class_weight='balanced', max_depth=10,\n",
       "                       min_samples_leaf=2, min_samples_split=5,\n",
       "                       n_estimators=200, random_state=12345)"
      ]
     },
     "execution_count": 29,
     "metadata": {},
     "output_type": "execute_result"
    }
   ],
   "source": [
    "\n",
    "\n",
    "\n",
    "model = RandomForestClassifier(\n",
    "    n_estimators=200,\n",
    "    max_depth=10,\n",
    "    min_samples_split=5,\n",
    "    min_samples_leaf=2,\n",
    "    class_weight=\"balanced\",\n",
    "    random_state=12345\n",
    ")\n",
    "\n",
    "model.fit(X_train_bal, y_train_bal)\n",
    "\n",
    "\n",
    "\n",
    "\n",
    "\n"
   ]
  },
  {
   "cell_type": "code",
   "execution_count": null,
   "metadata": {},
   "outputs": [],
   "source": [
    "\n"
   ]
  },
  {
   "cell_type": "code",
   "execution_count": 30,
   "metadata": {},
   "outputs": [],
   "source": [
    "\n",
    "y_proba = model.predict_proba(X_test)[:, 1]\n",
    "\n"
   ]
  },
  {
   "cell_type": "code",
   "execution_count": 31,
   "metadata": {},
   "outputs": [
    {
     "name": "stdout",
     "output_type": "stream",
     "text": [
      "Melhor threshold: 0.5390339615863275\n",
      "F1 ajustado: 0.6491646778042959\n",
      "ROC AUC: 0.8648494411206274\n",
      "\n",
      "Classification Report:\n",
      "               precision    recall  f1-score   support\n",
      "\n",
      "           0       0.91      0.90      0.91      1593\n",
      "           1       0.63      0.67      0.65       407\n",
      "\n",
      "    accuracy                           0.85      2000\n",
      "   macro avg       0.77      0.78      0.78      2000\n",
      "weighted avg       0.86      0.85      0.85      2000\n",
      "\n",
      "Matriz de confusão:\n",
      " [[1434  159]\n",
      " [ 135  272]]\n"
     ]
    }
   ],
   "source": [
    "\n",
    "prec, rec, thresholds = precision_recall_curve(y_test, y_proba)\n",
    "f1_scores = 2 * (prec * rec) / (prec + rec)\n",
    "best_thresh = thresholds[f1_scores.argmax()]\n",
    "\n",
    "y_pred_adj = (y_proba >= best_thresh).astype(int)\n",
    "\n",
    "print(\"Melhor threshold:\", best_thresh)\n",
    "print(\"F1 ajustado:\", f1_score(y_test, y_pred_adj))\n",
    "print(\"ROC AUC:\", roc_auc_score(y_test, y_proba))\n",
    "print(\"\\nClassification Report:\\n\", classification_report(y_test, y_pred_adj))\n",
    "print(\"Matriz de confusão:\\n\", confusion_matrix(y_test, y_pred_adj))\n"
   ]
  },
  {
   "cell_type": "markdown",
   "metadata": {},
   "source": [
    "avalia o equilíbrio entre detectar corretamente churns"
   ]
  },
  {
   "cell_type": "markdown",
   "metadata": {},
   "source": [
    "Minha conclusão sobre o treinamento de modelo foi, que ele ficou \"aceitavel\" porém acredito que com melhoras deixo ele mais \"fiel\""
   ]
  },
  {
   "cell_type": "code",
   "execution_count": 39,
   "metadata": {},
   "outputs": [
    {
     "data": {
      "image/png": "[encoded data removed]",
      "text/plain": [
       "<Figure size 700x500 with 1 Axes>"
      ]
     },
     "metadata": {},
     "output_type": "display_data"
    }
   ],
   "source": [
    "fpr, tpr, _ = roc_curve(y_test, y_proba)\n",
    "roc_auc = auc(fpr, tpr)\n",
    "\n",
    "plt.figure(figsize=(7,5))\n",
    "plt.plot(fpr, tpr, color='blue', lw=2, label=f'ROC Curve (AUC = {roc_auc:.2f})')\n",
    "plt.plot([0,1], [0,1], color='gray', linestyle='--')\n",
    "plt.xlabel('Falso Positivo')\n",
    "plt.ylabel('Verdadeiro Positivo')\n",
    "plt.title('ROC Curve')\n",
    "plt.legend()\n",
    "plt.grid(True)\n",
    "plt.show()"
   ]
  },
  {
   "cell_type": "markdown",
   "metadata": {},
   "source": [
    "Importância das Features"
   ]
  },
  {
   "cell_type": "code",
   "execution_count": 40,
   "metadata": {},
   "outputs": [
    {
     "data": {
      "image/png": "[encoded data removed]",
      "text/plain": [
       "<Figure size 1000x600 with 1 Axes>"
      ]
     },
     "metadata": {},
     "output_type": "display_data"
    }
   ],
   "source": [
    "importances = model.feature_importances_\n",
    "feature_names = X_train_bal.columns\n",
    "\n",
    "\n",
    "feat_imp_df = pd.DataFrame({\n",
    "    'Feature': feature_names,\n",
    "    'Importance': importances\n",
    "}).sort_values(by='Importance', ascending=False)\n",
    "\n",
    "\n",
    "plt.figure(figsize=(10,6))\n",
    "plt.barh(feat_imp_df['Feature'], feat_imp_df['Importance'], color='skyblue')\n",
    "plt.gca().invert_yaxis()  \n",
    "plt.title('Importância das Features - Random Forest')\n",
    "plt.xlabel('Importância')\n",
    "plt.show()"
   ]
  },
  {
   "cell_type": "code",
   "execution_count": null,
   "metadata": {},
   "outputs": [],
   "source": []
  }
 ],
 "metadata": {
  "kernelspec": {
   "display_name": "Python 3 (ipykernel)",
   "language": "python",
   "name": "python3"
  },
  "language_info": {
   "codemirror_mode": {
    "name": "ipython",
    "version": 3
   },
   "file_extension": ".py",
   "mimetype": "text/x-python",
   "name": "python",
   "nbconvert_exporter": "python",
   "pygments_lexer": "ipython3",
   "version": "3.9.23"
  }
 },
 "nbformat": 4,
 "nbformat_minor": 4
}
